{
 "cells": [
  {
   "cell_type": "code",
   "execution_count": 3,
   "id": "23ad2ef0-9b8c-4946-b1cf-62932929c3ab",
   "metadata": {},
   "outputs": [],
   "source": [
    "import numpy as np\n",
    "import matplotlib.pyplot as plt \n",
    "from scipy.spatial.distance import cdist\n",
    "np.random.seed(2)"
   ]
  },
  {
   "cell_type": "code",
   "execution_count": 4,
   "id": "859ae1e5-fb61-437e-a03c-45d8c6a4a87f",
   "metadata": {},
   "outputs": [],
   "source": [
    "means = [[2,2], [4,2]]\n",
    "cov = [[.3,.2],[.2,.3]]\n",
    "N=10\n",
    "X0 = np.random.multivariate_normal(means[0], cov, N).T\n",
    "X1 = np.random.multivariate_normal(means[1], cov, N).T\n",
    "\n",
    "X = np.concatenate((X0, X1), axis=1)\n",
    "y = np.concatenate((np.ones((1, N)), -1*np.ones((1,N))), axis=1)\n",
    "\n",
    "X = np.concatenate((np.ones((1, 2*N)), X), axis=0)"
   ]
  },
  {
   "cell_type": "code",
   "execution_count": 5,
   "id": "f19302b5-3358-4b0b-826b-edec4739cd94",
   "metadata": {},
   "outputs": [
    {
     "data": {
      "text/plain": [
       "array([[1.        , 1.        , 1.        , 1.        , 1.        ,\n",
       "        1.        , 1.        , 1.        , 1.        , 1.        ,\n",
       "        1.        , 1.        , 1.        , 1.        , 1.        ,\n",
       "        1.        , 1.        , 1.        , 1.        , 1.        ],\n",
       "       [2.22096057, 2.70132234, 3.08493823, 2.02701417, 2.73223639,\n",
       "        1.21171968, 2.22920603, 1.8637762 , 1.74682699, 2.37191737,\n",
       "        4.47403369, 4.09281249, 4.22222334, 4.58438569, 4.74493118,\n",
       "        3.6355797 , 5.19217738, 3.51075436, 3.93784332, 3.8787214 ],\n",
       "       [2.19579728, 3.43487375, 2.70849736, 1.47010441, 2.32571583,\n",
       "        2.23682627, 1.72925457, 1.59716548, 2.27230351, 2.37595358,\n",
       "        2.4040742 , 1.65061706, 2.11659863, 2.05326933, 2.67628604,\n",
       "        2.63347726, 3.2425902 , 2.11880111, 1.56029947, 2.12126884]])"
      ]
     },
     "execution_count": 5,
     "metadata": {},
     "output_type": "execute_result"
    }
   ],
   "source": [
    "X"
   ]
  },
  {
   "cell_type": "code",
   "execution_count": 6,
   "id": "011358c4-22b5-4c06-9068-47f12a6f45fa",
   "metadata": {},
   "outputs": [
    {
     "data": {
      "text/plain": [
       "array([[2.22096057, 2.70132234, 3.08493823, 2.02701417, 2.73223639,\n",
       "        1.21171968, 2.22920603, 1.8637762 , 1.74682699, 2.37191737],\n",
       "       [2.19579728, 3.43487375, 2.70849736, 1.47010441, 2.32571583,\n",
       "        2.23682627, 1.72925457, 1.59716548, 2.27230351, 2.37595358]])"
      ]
     },
     "execution_count": 6,
     "metadata": {},
     "output_type": "execute_result"
    }
   ],
   "source": [
    "X0"
   ]
  },
  {
   "cell_type": "code",
   "execution_count": 7,
   "id": "a382fc1f-3752-4117-acae-b1d6908e0512",
   "metadata": {},
   "outputs": [
    {
     "data": {
      "text/plain": [
       "array([[ 1.,  1.,  1.,  1.,  1.,  1.,  1.,  1.,  1.,  1., -1., -1., -1.,\n",
       "        -1., -1., -1., -1., -1., -1., -1.]])"
      ]
     },
     "execution_count": 7,
     "metadata": {},
     "output_type": "execute_result"
    }
   ],
   "source": [
    "y"
   ]
  },
  {
   "cell_type": "code",
   "execution_count": 8,
   "id": "c250a877-7160-4a92-bb72-fd388698dd26",
   "metadata": {},
   "outputs": [],
   "source": [
    "def h(w, x):\n",
    "    return np.sign(np.dot(w.T, x))"
   ]
  },
  {
   "cell_type": "code",
   "execution_count": 9,
   "id": "d882ee19-0b1e-4367-b0c8-d229df8e24ec",
   "metadata": {},
   "outputs": [],
   "source": [
    "def has_converged(X, y, w):\n",
    "    return np.array_equal(h(w, X), y)"
   ]
  },
  {
   "cell_type": "code",
   "execution_count": 10,
   "id": "b74cbd23-7995-42b1-b2e7-c56b7012a953",
   "metadata": {},
   "outputs": [],
   "source": [
    "def perceptron(X, y, w_init):\n",
    "    w = [w_init]\n",
    "    N = X.shape[1]\n",
    "    d = X.shape[0]\n",
    "    mis_points = []\n",
    "    while True:\n",
    "        mix_id = np.random.permutation(N)\n",
    "        for i in range(N):\n",
    "            xi = X[:, mix_id[i]].reshape(d,1)\n",
    "            yi = y[0, mix_id[i]]\n",
    "            if h(w[-1], xi)[0] != yi:\n",
    "                mis_points.append(mix_id[i])\n",
    "                w_new = w[-1] + yi*xi\n",
    "                w.append(w_new)\n",
    "        if has_converged(X, y, w[-1]):\n",
    "            break\n",
    "    return (w, mis_points)"
   ]
  },
  {
   "cell_type": "code",
   "execution_count": 13,
   "id": "c91b3eff-dda9-4cce-a407-c13c8df1f6d5",
   "metadata": {},
   "outputs": [],
   "source": [
    "d = X.shape[0]\n",
    "w_init = np.random.randn(d,1)\n",
    "(w, m) = perceptron(X, y, w_init)"
   ]
  },
  {
   "cell_type": "code",
   "execution_count": 14,
   "id": "383e7339-b0f1-41bb-8665-7e41ecd0b610",
   "metadata": {},
   "outputs": [
    {
     "data": {
      "text/plain": [
       "array([[-0.3135082 ],\n",
       "       [ 0.77101174],\n",
       "       [-1.86809065]])"
      ]
     },
     "execution_count": 14,
     "metadata": {},
     "output_type": "execute_result"
    }
   ],
   "source": [
    "w_init"
   ]
  }
 ],
 "metadata": {
  "kernelspec": {
   "display_name": "Python 3 (ipykernel)",
   "language": "python",
   "name": "python3"
  },
  "language_info": {
   "codemirror_mode": {
    "name": "ipython",
    "version": 3
   },
   "file_extension": ".py",
   "mimetype": "text/x-python",
   "name": "python",
   "nbconvert_exporter": "python",
   "pygments_lexer": "ipython3",
   "version": "3.12.3"
  }
 },
 "nbformat": 4,
 "nbformat_minor": 5
}
